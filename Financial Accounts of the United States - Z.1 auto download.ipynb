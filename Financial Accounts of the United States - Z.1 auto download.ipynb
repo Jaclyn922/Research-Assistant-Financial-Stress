{
 "cells": [
  {
   "cell_type": "code",
   "execution_count": 2,
   "id": "12c58e1e",
   "metadata": {},
   "outputs": [
    {
     "name": "stdout",
     "output_type": "stream",
     "text": [
      "Please enter the series codes separated by commas (e.g., Z1/Z1/FG384104005.Q, Z1/Z1/FG384104006.Q): FL313011005\n",
      "Data successfully saved to FL313011005.csv\n"
     ]
    }
   ],
   "source": [
    "import requests\n",
    "import pandas as pd\n",
    "from bs4 import BeautifulSoup\n",
    "\n",
    "def download_data(codes):\n",
    "    base_url = \"https://www.federalreserve.gov/datadownload/Preview.aspx?pi=400&rel=z1&preview=\"\n",
    "    \n",
    "    for code in codes:\n",
    "        url = f\"{base_url}{code.strip()}\"\n",
    "        \n",
    "        response = requests.get(url)\n",
    "        \n",
    "        if response.status_code == 200:\n",
    "            soup = BeautifulSoup(response.content, 'html.parser')\n",
    "            table = soup.find('table')\n",
    "\n",
    "            if table:\n",
    "                df = pd.read_html(str(table))[0]\n",
    "                filename = f\"{code.replace('/', '_')}.csv\"\n",
    "                df.to_csv(filename, index=False)\n",
    "                print(f\"Data successfully saved to {filename}\")\n",
    "            else:\n",
    "                print(f\"Failed to find the data table for {code}.\")\n",
    "        else:\n",
    "            print(f\"Failed to download the data for {code}. Status code: {response.status_code}\")\n",
    "\n",
    "if __name__ == \"__main__\":\n",
    "    codes_input = input(\"Please enter the series codes separated by commas (e.g., Z1/Z1/FG384104005.Q, Z1/Z1/FG384104006.Q): \")\n",
    "    codes = codes_input.split(',')\n",
    "    download_data(codes)\n",
    "\n",
    "    \n",
    "# note: the csv file download will save to the same folder with this python code."
   ]
  },
  {
   "cell_type": "code",
   "execution_count": null,
   "id": "1bc86b6a",
   "metadata": {},
   "outputs": [],
   "source": [
    " FL313011005"
   ]
  }
 ],
 "metadata": {
  "kernelspec": {
   "display_name": "Python 3 (ipykernel)",
   "language": "python",
   "name": "python3"
  },
  "language_info": {
   "codemirror_mode": {
    "name": "ipython",
    "version": 3
   },
   "file_extension": ".py",
   "mimetype": "text/x-python",
   "name": "python",
   "nbconvert_exporter": "python",
   "pygments_lexer": "ipython3",
   "version": "3.9.7"
  }
 },
 "nbformat": 4,
 "nbformat_minor": 5
}
